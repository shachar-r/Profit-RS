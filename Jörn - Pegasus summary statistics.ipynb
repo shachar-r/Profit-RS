{
 "cells": [
  {
   "cell_type": "markdown",
   "metadata": {},
   "source": [
    "# Pegasus data analysis\n",
    "\n",
    "Jörn's analysis of the Pegasus data. \n",
    "\n",
    "## Reading and cleaning\n",
    "\n",
    "We start by reading the data from disk."
   ]
  },
  {
   "cell_type": "code",
   "execution_count": 1,
   "metadata": {},
   "outputs": [
    {
     "data": {
      "text/html": [
       "<div>\n",
       "<style>\n",
       "    .dataframe thead tr:only-child th {\n",
       "        text-align: right;\n",
       "    }\n",
       "\n",
       "    .dataframe thead th {\n",
       "        text-align: left;\n",
       "    }\n",
       "\n",
       "    .dataframe tbody tr th {\n",
       "        vertical-align: top;\n",
       "    }\n",
       "</style>\n",
       "<table border=\"1\" class=\"dataframe\">\n",
       "  <thead>\n",
       "    <tr style=\"text-align: right;\">\n",
       "      <th></th>\n",
       "      <th>id</th>\n",
       "      <th>dateOfOrder</th>\n",
       "      <th>customerId</th>\n",
       "      <th>typeOfOrder</th>\n",
       "      <th>id.1</th>\n",
       "      <th>orderId</th>\n",
       "      <th>articleId</th>\n",
       "      <th>title</th>\n",
       "      <th>amount</th>\n",
       "      <th>price</th>\n",
       "      <th>discount</th>\n",
       "      <th>orderValue</th>\n",
       "    </tr>\n",
       "  </thead>\n",
       "  <tbody>\n",
       "    <tr>\n",
       "      <th>0</th>\n",
       "      <td>190</td>\n",
       "      <td>2004-05-11 16:47:01</td>\n",
       "      <td>29957</td>\n",
       "      <td>ORDER</td>\n",
       "      <td>743.00</td>\n",
       "      <td>190.00</td>\n",
       "      <td>HER00500</td>\n",
       "      <td>Fantasy Hero</td>\n",
       "      <td>1.00</td>\n",
       "      <td>38.40</td>\n",
       "      <td>nan</td>\n",
       "      <td>38.40</td>\n",
       "    </tr>\n",
       "    <tr>\n",
       "      <th>1</th>\n",
       "      <td>191</td>\n",
       "      <td>2004-05-11 16:51:35</td>\n",
       "      <td>30247</td>\n",
       "      <td>ORDER</td>\n",
       "      <td>744.00</td>\n",
       "      <td>191.00</td>\n",
       "      <td>FFG0WC01</td>\n",
       "      <td>Warcraft DEUTSCH</td>\n",
       "      <td>1.00</td>\n",
       "      <td>39.95</td>\n",
       "      <td>nan</td>\n",
       "      <td>39.95</td>\n",
       "    </tr>\n",
       "    <tr>\n",
       "      <th>2</th>\n",
       "      <td>191</td>\n",
       "      <td>2004-05-11 16:51:35</td>\n",
       "      <td>30247</td>\n",
       "      <td>ORDER</td>\n",
       "      <td>745.00</td>\n",
       "      <td>191.00</td>\n",
       "      <td>EAG00004</td>\n",
       "      <td>Civilization DEUTSCH</td>\n",
       "      <td>1.00</td>\n",
       "      <td>49.99</td>\n",
       "      <td>nan</td>\n",
       "      <td>49.99</td>\n",
       "    </tr>\n",
       "    <tr>\n",
       "      <th>3</th>\n",
       "      <td>192</td>\n",
       "      <td>2004-05-11 17:29:35</td>\n",
       "      <td>29895</td>\n",
       "      <td>ORDER</td>\n",
       "      <td>746.00</td>\n",
       "      <td>192.00</td>\n",
       "      <td>GSG0F132</td>\n",
       "      <td>Unter Druck</td>\n",
       "      <td>1.00</td>\n",
       "      <td>10.10</td>\n",
       "      <td>nan</td>\n",
       "      <td>10.10</td>\n",
       "    </tr>\n",
       "    <tr>\n",
       "      <th>4</th>\n",
       "      <td>192</td>\n",
       "      <td>2004-05-11 17:29:35</td>\n",
       "      <td>29895</td>\n",
       "      <td>ORDER</td>\n",
       "      <td>747.00</td>\n",
       "      <td>192.00</td>\n",
       "      <td>GIV02030</td>\n",
       "      <td>Konzernreport #2: Lazarus</td>\n",
       "      <td>1.00</td>\n",
       "      <td>9.50</td>\n",
       "      <td>nan</td>\n",
       "      <td>9.50</td>\n",
       "    </tr>\n",
       "  </tbody>\n",
       "</table>\n",
       "</div>"
      ],
      "text/plain": [
       "    id         dateOfOrder  customerId typeOfOrder   id.1  orderId  \\\n",
       "0  190 2004-05-11 16:47:01       29957       ORDER 743.00   190.00   \n",
       "1  191 2004-05-11 16:51:35       30247       ORDER 744.00   191.00   \n",
       "2  191 2004-05-11 16:51:35       30247       ORDER 745.00   191.00   \n",
       "3  192 2004-05-11 17:29:35       29895       ORDER 746.00   192.00   \n",
       "4  192 2004-05-11 17:29:35       29895       ORDER 747.00   192.00   \n",
       "\n",
       "         articleId                      title  amount  price  discount  \\\n",
       "0         HER00500               Fantasy Hero    1.00  38.40       nan   \n",
       "1         FFG0WC01           Warcraft DEUTSCH    1.00  39.95       nan   \n",
       "2         EAG00004       Civilization DEUTSCH    1.00  49.99       nan   \n",
       "3         GSG0F132                Unter Druck    1.00  10.10       nan   \n",
       "4         GIV02030  Konzernreport #2: Lazarus    1.00   9.50       nan   \n",
       "\n",
       "   orderValue  \n",
       "0       38.40  \n",
       "1       39.95  \n",
       "2       49.99  \n",
       "3       10.10  \n",
       "4        9.50  "
      ]
     },
     "execution_count": 1,
     "metadata": {},
     "output_type": "execute_result"
    }
   ],
   "source": [
    "%matplotlib inline\n",
    "\n",
    "import matplotlib\n",
    "import matplotlib.pyplot as plt\n",
    "import pandas as pd \n",
    "import numpy as np\n",
    "%precision 2\n",
    "pd.options.display.float_format = '{:,.2f}'.format\n",
    "\n",
    "# read raw csv file\n",
    "ordersFile = \"D:\\\\Universitaet\\\\Lehrstuhl Koeln Grahl\\\\02 Forschung\\\\Aktiv\\\\Pegasus\\\\data\\\\orders.txt\"\n",
    "data = pd.read_csv(ordersFile, sep=\"\\t\", parse_dates=['dateOfOrder']) # read file\n",
    "# compute order value\n",
    "data['orderValue'] = data['price'] * data['amount'] # compute order value \n",
    "\n",
    "data[:5] # verify by showing top 5 lines"
   ]
  },
  {
   "cell_type": "code",
   "execution_count": 2,
   "metadata": {
    "scrolled": true
   },
   "outputs": [
    {
     "data": {
      "text/html": [
       "<div>\n",
       "<style>\n",
       "    .dataframe thead tr:only-child th {\n",
       "        text-align: right;\n",
       "    }\n",
       "\n",
       "    .dataframe thead th {\n",
       "        text-align: left;\n",
       "    }\n",
       "\n",
       "    .dataframe tbody tr th {\n",
       "        vertical-align: top;\n",
       "    }\n",
       "</style>\n",
       "<table border=\"1\" class=\"dataframe\">\n",
       "  <thead>\n",
       "    <tr style=\"text-align: right;\">\n",
       "      <th></th>\n",
       "      <th>id</th>\n",
       "      <th>customerId</th>\n",
       "      <th>id.1</th>\n",
       "      <th>orderId</th>\n",
       "      <th>amount</th>\n",
       "      <th>price</th>\n",
       "      <th>discount</th>\n",
       "      <th>orderValue</th>\n",
       "    </tr>\n",
       "  </thead>\n",
       "  <tbody>\n",
       "    <tr>\n",
       "      <th>count</th>\n",
       "      <td>1,454,437.00</td>\n",
       "      <td>1,454,437.00</td>\n",
       "      <td>1,454,433.00</td>\n",
       "      <td>1,454,433.00</td>\n",
       "      <td>1,454,433.00</td>\n",
       "      <td>1,394,006.00</td>\n",
       "      <td>23.00</td>\n",
       "      <td>1,394,006.00</td>\n",
       "    </tr>\n",
       "    <tr>\n",
       "      <th>mean</th>\n",
       "      <td>149,861.58</td>\n",
       "      <td>14,642.62</td>\n",
       "      <td>728,021.01</td>\n",
       "      <td>149,861.90</td>\n",
       "      <td>2.41</td>\n",
       "      <td>12.46</td>\n",
       "      <td>24.78</td>\n",
       "      <td>31.64</td>\n",
       "    </tr>\n",
       "    <tr>\n",
       "      <th>std</th>\n",
       "      <td>89,050.63</td>\n",
       "      <td>7,992.95</td>\n",
       "      <td>419,897.83</td>\n",
       "      <td>89,050.53</td>\n",
       "      <td>89.82</td>\n",
       "      <td>14.22</td>\n",
       "      <td>1.04</td>\n",
       "      <td>430.40</td>\n",
       "    </tr>\n",
       "    <tr>\n",
       "      <th>min</th>\n",
       "      <td>190.00</td>\n",
       "      <td>-1.00</td>\n",
       "      <td>743.00</td>\n",
       "      <td>190.00</td>\n",
       "      <td>-36,138.00</td>\n",
       "      <td>-1.00</td>\n",
       "      <td>20.00</td>\n",
       "      <td>-12.00</td>\n",
       "    </tr>\n",
       "    <tr>\n",
       "      <th>25%</th>\n",
       "      <td>70,150.00</td>\n",
       "      <td>11,239.00</td>\n",
       "      <td>364,379.00</td>\n",
       "      <td>70,151.00</td>\n",
       "      <td>1.00</td>\n",
       "      <td>4.77</td>\n",
       "      <td>25.00</td>\n",
       "      <td>6.49</td>\n",
       "    </tr>\n",
       "    <tr>\n",
       "      <th>50%</th>\n",
       "      <td>149,593.00</td>\n",
       "      <td>12,061.00</td>\n",
       "      <td>728,033.00</td>\n",
       "      <td>149,594.00</td>\n",
       "      <td>1.00</td>\n",
       "      <td>8.24</td>\n",
       "      <td>25.00</td>\n",
       "      <td>12.97</td>\n",
       "    </tr>\n",
       "    <tr>\n",
       "      <th>75%</th>\n",
       "      <td>229,428.00</td>\n",
       "      <td>13,477.00</td>\n",
       "      <td>1,091,641.00</td>\n",
       "      <td>229,428.00</td>\n",
       "      <td>2.00</td>\n",
       "      <td>15.99</td>\n",
       "      <td>25.00</td>\n",
       "      <td>24.00</td>\n",
       "    </tr>\n",
       "    <tr>\n",
       "      <th>max</th>\n",
       "      <td>296,838.00</td>\n",
       "      <td>108,272.00</td>\n",
       "      <td>1,455,320.00</td>\n",
       "      <td>296,838.00</td>\n",
       "      <td>90,910.00</td>\n",
       "      <td>1,532.86</td>\n",
       "      <td>25.00</td>\n",
       "      <td>221,848.00</td>\n",
       "    </tr>\n",
       "  </tbody>\n",
       "</table>\n",
       "</div>"
      ],
      "text/plain": [
       "                id   customerId         id.1      orderId       amount  \\\n",
       "count 1,454,437.00 1,454,437.00 1,454,433.00 1,454,433.00 1,454,433.00   \n",
       "mean    149,861.58    14,642.62   728,021.01   149,861.90         2.41   \n",
       "std      89,050.63     7,992.95   419,897.83    89,050.53        89.82   \n",
       "min         190.00        -1.00       743.00       190.00   -36,138.00   \n",
       "25%      70,150.00    11,239.00   364,379.00    70,151.00         1.00   \n",
       "50%     149,593.00    12,061.00   728,033.00   149,594.00         1.00   \n",
       "75%     229,428.00    13,477.00 1,091,641.00   229,428.00         2.00   \n",
       "max     296,838.00   108,272.00 1,455,320.00   296,838.00    90,910.00   \n",
       "\n",
       "             price  discount   orderValue  \n",
       "count 1,394,006.00     23.00 1,394,006.00  \n",
       "mean         12.46     24.78        31.64  \n",
       "std          14.22      1.04       430.40  \n",
       "min          -1.00     20.00       -12.00  \n",
       "25%           4.77     25.00         6.49  \n",
       "50%           8.24     25.00        12.97  \n",
       "75%          15.99     25.00        24.00  \n",
       "max       1,532.86     25.00   221,848.00  "
      ]
     },
     "execution_count": 2,
     "metadata": {},
     "output_type": "execute_result"
    }
   ],
   "source": [
    "data.describe()"
   ]
  },
  {
   "cell_type": "markdown",
   "metadata": {},
   "source": [
    "Strange things: \n",
    "1. Discounts only available for 23 observations\n",
    "1. Negative prices\n",
    "1. These vars have fewer values than total number of obs: `orderId`, `amount`, `price`\n",
    "1. Negative customer Id\n",
    "1. Max `order value` is huge!\n",
    "1. Max `amount` is huge, min `amount` is negative!\n",
    "\n",
    "What I do first: \n",
    "1. I drop `discount` var. \n",
    "1. I remove all obs with `prices<0`.\n",
    "1. I drop all obs that have missing values.\n",
    "1. I keep only customers with a `customerId > 0`"
   ]
  },
  {
   "cell_type": "code",
   "execution_count": 3,
   "metadata": {},
   "outputs": [
    {
     "data": {
      "text/html": [
       "<div>\n",
       "<style>\n",
       "    .dataframe thead tr:only-child th {\n",
       "        text-align: right;\n",
       "    }\n",
       "\n",
       "    .dataframe thead th {\n",
       "        text-align: left;\n",
       "    }\n",
       "\n",
       "    .dataframe tbody tr th {\n",
       "        vertical-align: top;\n",
       "    }\n",
       "</style>\n",
       "<table border=\"1\" class=\"dataframe\">\n",
       "  <thead>\n",
       "    <tr style=\"text-align: right;\">\n",
       "      <th></th>\n",
       "      <th>id</th>\n",
       "      <th>customerId</th>\n",
       "      <th>id.1</th>\n",
       "      <th>orderId</th>\n",
       "      <th>amount</th>\n",
       "      <th>price</th>\n",
       "      <th>orderValue</th>\n",
       "    </tr>\n",
       "  </thead>\n",
       "  <tbody>\n",
       "    <tr>\n",
       "      <th>count</th>\n",
       "      <td>1,384,879.00</td>\n",
       "      <td>1,384,879.00</td>\n",
       "      <td>1,384,879.00</td>\n",
       "      <td>1,384,879.00</td>\n",
       "      <td>1,384,879.00</td>\n",
       "      <td>1,384,879.00</td>\n",
       "      <td>1,384,879.00</td>\n",
       "    </tr>\n",
       "    <tr>\n",
       "      <th>mean</th>\n",
       "      <td>149,394.76</td>\n",
       "      <td>14,685.68</td>\n",
       "      <td>725,758.67</td>\n",
       "      <td>149,394.76</td>\n",
       "      <td>2.51</td>\n",
       "      <td>12.42</td>\n",
       "      <td>31.71</td>\n",
       "    </tr>\n",
       "    <tr>\n",
       "      <th>std</th>\n",
       "      <td>88,569.98</td>\n",
       "      <td>7,780.82</td>\n",
       "      <td>417,416.32</td>\n",
       "      <td>88,569.98</td>\n",
       "      <td>10.24</td>\n",
       "      <td>14.16</td>\n",
       "      <td>431.81</td>\n",
       "    </tr>\n",
       "    <tr>\n",
       "      <th>min</th>\n",
       "      <td>190.00</td>\n",
       "      <td>10,000.00</td>\n",
       "      <td>743.00</td>\n",
       "      <td>190.00</td>\n",
       "      <td>1.00</td>\n",
       "      <td>0.00</td>\n",
       "      <td>0.00</td>\n",
       "    </tr>\n",
       "    <tr>\n",
       "      <th>25%</th>\n",
       "      <td>70,261.00</td>\n",
       "      <td>11,256.00</td>\n",
       "      <td>364,897.50</td>\n",
       "      <td>70,261.00</td>\n",
       "      <td>1.00</td>\n",
       "      <td>4.75</td>\n",
       "      <td>6.47</td>\n",
       "    </tr>\n",
       "    <tr>\n",
       "      <th>50%</th>\n",
       "      <td>148,753.00</td>\n",
       "      <td>12,061.00</td>\n",
       "      <td>725,065.00</td>\n",
       "      <td>148,753.00</td>\n",
       "      <td>1.00</td>\n",
       "      <td>8.22</td>\n",
       "      <td>12.95</td>\n",
       "    </tr>\n",
       "    <tr>\n",
       "      <th>75%</th>\n",
       "      <td>227,849.00</td>\n",
       "      <td>13,469.00</td>\n",
       "      <td>1,083,495.50</td>\n",
       "      <td>227,849.00</td>\n",
       "      <td>2.00</td>\n",
       "      <td>15.93</td>\n",
       "      <td>24.00</td>\n",
       "    </tr>\n",
       "    <tr>\n",
       "      <th>max</th>\n",
       "      <td>296,838.00</td>\n",
       "      <td>108,272.00</td>\n",
       "      <td>1,455,320.00</td>\n",
       "      <td>296,838.00</td>\n",
       "      <td>3,000.00</td>\n",
       "      <td>1,532.86</td>\n",
       "      <td>221,848.00</td>\n",
       "    </tr>\n",
       "  </tbody>\n",
       "</table>\n",
       "</div>"
      ],
      "text/plain": [
       "                id   customerId         id.1      orderId       amount  \\\n",
       "count 1,384,879.00 1,384,879.00 1,384,879.00 1,384,879.00 1,384,879.00   \n",
       "mean    149,394.76    14,685.68   725,758.67   149,394.76         2.51   \n",
       "std      88,569.98     7,780.82   417,416.32    88,569.98        10.24   \n",
       "min         190.00    10,000.00       743.00       190.00         1.00   \n",
       "25%      70,261.00    11,256.00   364,897.50    70,261.00         1.00   \n",
       "50%     148,753.00    12,061.00   725,065.00   148,753.00         1.00   \n",
       "75%     227,849.00    13,469.00 1,083,495.50   227,849.00         2.00   \n",
       "max     296,838.00   108,272.00 1,455,320.00   296,838.00     3,000.00   \n",
       "\n",
       "             price   orderValue  \n",
       "count 1,384,879.00 1,384,879.00  \n",
       "mean         12.42        31.71  \n",
       "std          14.16       431.81  \n",
       "min           0.00         0.00  \n",
       "25%           4.75         6.47  \n",
       "50%           8.22        12.95  \n",
       "75%          15.93        24.00  \n",
       "max       1,532.86   221,848.00  "
      ]
     },
     "execution_count": 3,
     "metadata": {},
     "output_type": "execute_result"
    }
   ],
   "source": [
    "data = data.drop(['discount'], axis = 1) # drop discount column\n",
    "data.dropna(inplace = True) # remove rows that have a missing value\n",
    "data = data.loc[data['price'] >= 0] # remove orders with negative prices\n",
    "data = data.loc[data['customerId'] > 0] # remove negative customer IDs\n",
    "data.describe() # once more"
   ]
  },
  {
   "cell_type": "markdown",
   "metadata": {},
   "source": [
    "Count is identical for all vars. Prices >= 0. Discounts removed."
   ]
  },
  {
   "cell_type": "code",
   "execution_count": 4,
   "metadata": {},
   "outputs": [
    {
     "data": {
      "text/html": [
       "<div>\n",
       "<style>\n",
       "    .dataframe thead tr:only-child th {\n",
       "        text-align: right;\n",
       "    }\n",
       "\n",
       "    .dataframe thead th {\n",
       "        text-align: left;\n",
       "    }\n",
       "\n",
       "    .dataframe tbody tr th {\n",
       "        vertical-align: top;\n",
       "    }\n",
       "</style>\n",
       "<table border=\"1\" class=\"dataframe\">\n",
       "  <thead>\n",
       "    <tr style=\"text-align: right;\">\n",
       "      <th></th>\n",
       "      <th>id</th>\n",
       "      <th>customerId</th>\n",
       "      <th>id.1</th>\n",
       "      <th>orderId</th>\n",
       "      <th>amount</th>\n",
       "      <th>price</th>\n",
       "      <th>orderValue</th>\n",
       "    </tr>\n",
       "  </thead>\n",
       "  <tbody>\n",
       "    <tr>\n",
       "      <th>count</th>\n",
       "      <td>1,384,704.00</td>\n",
       "      <td>1,384,704.00</td>\n",
       "      <td>1,384,704.00</td>\n",
       "      <td>1,384,704.00</td>\n",
       "      <td>1,384,704.00</td>\n",
       "      <td>1,384,704.00</td>\n",
       "      <td>1,384,704.00</td>\n",
       "    </tr>\n",
       "    <tr>\n",
       "      <th>mean</th>\n",
       "      <td>149,399.87</td>\n",
       "      <td>14,683.32</td>\n",
       "      <td>725,781.68</td>\n",
       "      <td>149,399.87</td>\n",
       "      <td>2.51</td>\n",
       "      <td>12.42</td>\n",
       "      <td>31.72</td>\n",
       "    </tr>\n",
       "    <tr>\n",
       "      <th>std</th>\n",
       "      <td>88,573.15</td>\n",
       "      <td>7,778.30</td>\n",
       "      <td>417,432.45</td>\n",
       "      <td>88,573.15</td>\n",
       "      <td>10.24</td>\n",
       "      <td>14.16</td>\n",
       "      <td>431.84</td>\n",
       "    </tr>\n",
       "    <tr>\n",
       "      <th>min</th>\n",
       "      <td>190.00</td>\n",
       "      <td>10,000.00</td>\n",
       "      <td>743.00</td>\n",
       "      <td>190.00</td>\n",
       "      <td>1.00</td>\n",
       "      <td>0.00</td>\n",
       "      <td>0.00</td>\n",
       "    </tr>\n",
       "    <tr>\n",
       "      <th>25%</th>\n",
       "      <td>70,256.00</td>\n",
       "      <td>11,256.00</td>\n",
       "      <td>364,853.75</td>\n",
       "      <td>70,256.00</td>\n",
       "      <td>1.00</td>\n",
       "      <td>4.75</td>\n",
       "      <td>6.47</td>\n",
       "    </tr>\n",
       "    <tr>\n",
       "      <th>50%</th>\n",
       "      <td>148,763.00</td>\n",
       "      <td>12,061.00</td>\n",
       "      <td>725,120.50</td>\n",
       "      <td>148,763.00</td>\n",
       "      <td>1.00</td>\n",
       "      <td>8.22</td>\n",
       "      <td>12.95</td>\n",
       "    </tr>\n",
       "    <tr>\n",
       "      <th>75%</th>\n",
       "      <td>227,858.00</td>\n",
       "      <td>13,469.00</td>\n",
       "      <td>1,083,541.25</td>\n",
       "      <td>227,858.00</td>\n",
       "      <td>2.00</td>\n",
       "      <td>15.93</td>\n",
       "      <td>24.00</td>\n",
       "    </tr>\n",
       "    <tr>\n",
       "      <th>max</th>\n",
       "      <td>296,838.00</td>\n",
       "      <td>108,272.00</td>\n",
       "      <td>1,455,320.00</td>\n",
       "      <td>296,838.00</td>\n",
       "      <td>3,000.00</td>\n",
       "      <td>1,532.86</td>\n",
       "      <td>221,848.00</td>\n",
       "    </tr>\n",
       "  </tbody>\n",
       "</table>\n",
       "</div>"
      ],
      "text/plain": [
       "                id   customerId         id.1      orderId       amount  \\\n",
       "count 1,384,704.00 1,384,704.00 1,384,704.00 1,384,704.00 1,384,704.00   \n",
       "mean    149,399.87    14,683.32   725,781.68   149,399.87         2.51   \n",
       "std      88,573.15     7,778.30   417,432.45    88,573.15        10.24   \n",
       "min         190.00    10,000.00       743.00       190.00         1.00   \n",
       "25%      70,256.00    11,256.00   364,853.75    70,256.00         1.00   \n",
       "50%     148,763.00    12,061.00   725,120.50   148,763.00         1.00   \n",
       "75%     227,858.00    13,469.00 1,083,541.25   227,858.00         2.00   \n",
       "max     296,838.00   108,272.00 1,455,320.00   296,838.00     3,000.00   \n",
       "\n",
       "             price   orderValue  \n",
       "count 1,384,704.00 1,384,704.00  \n",
       "mean         12.42        31.72  \n",
       "std          14.16       431.84  \n",
       "min           0.00         0.00  \n",
       "25%           4.75         6.47  \n",
       "50%           8.22        12.95  \n",
       "75%          15.93        24.00  \n",
       "max       1,532.86   221,848.00  "
      ]
     },
     "execution_count": 4,
     "metadata": {},
     "output_type": "execute_result"
    }
   ],
   "source": [
    "pd.unique(data['typeOfOrder']) # there are several possible entries for the order column\n",
    "data = data.loc[data['typeOfOrder'] == \"ORDER\"] # keep rows that are ORDERS\n",
    "data.describe()"
   ]
  },
  {
   "cell_type": "markdown",
   "metadata": {},
   "source": [
    "Now I look at order value. What is going on with the large orders?"
   ]
  },
  {
   "cell_type": "code",
   "execution_count": 5,
   "metadata": {},
   "outputs": [
    {
     "data": {
      "text/html": [
       "<div>\n",
       "<style>\n",
       "    .dataframe thead tr:only-child th {\n",
       "        text-align: right;\n",
       "    }\n",
       "\n",
       "    .dataframe thead th {\n",
       "        text-align: left;\n",
       "    }\n",
       "\n",
       "    .dataframe tbody tr th {\n",
       "        vertical-align: top;\n",
       "    }\n",
       "</style>\n",
       "<table border=\"1\" class=\"dataframe\">\n",
       "  <thead>\n",
       "    <tr style=\"text-align: right;\">\n",
       "      <th></th>\n",
       "      <th>orderValue</th>\n",
       "      <th>amount</th>\n",
       "    </tr>\n",
       "  </thead>\n",
       "  <tbody>\n",
       "    <tr>\n",
       "      <th>count</th>\n",
       "      <td>1,384,704.00</td>\n",
       "      <td>1,384,704.00</td>\n",
       "    </tr>\n",
       "    <tr>\n",
       "      <th>mean</th>\n",
       "      <td>31.72</td>\n",
       "      <td>2.51</td>\n",
       "    </tr>\n",
       "    <tr>\n",
       "      <th>std</th>\n",
       "      <td>431.84</td>\n",
       "      <td>10.24</td>\n",
       "    </tr>\n",
       "    <tr>\n",
       "      <th>min</th>\n",
       "      <td>0.00</td>\n",
       "      <td>1.00</td>\n",
       "    </tr>\n",
       "    <tr>\n",
       "      <th>25%</th>\n",
       "      <td>6.47</td>\n",
       "      <td>1.00</td>\n",
       "    </tr>\n",
       "    <tr>\n",
       "      <th>50%</th>\n",
       "      <td>12.95</td>\n",
       "      <td>1.00</td>\n",
       "    </tr>\n",
       "    <tr>\n",
       "      <th>75%</th>\n",
       "      <td>24.00</td>\n",
       "      <td>2.00</td>\n",
       "    </tr>\n",
       "    <tr>\n",
       "      <th>90%</th>\n",
       "      <td>49.32</td>\n",
       "      <td>4.00</td>\n",
       "    </tr>\n",
       "    <tr>\n",
       "      <th>99%</th>\n",
       "      <td>274.75</td>\n",
       "      <td>20.00</td>\n",
       "    </tr>\n",
       "    <tr>\n",
       "      <th>99.9%</th>\n",
       "      <td>1,562.88</td>\n",
       "      <td>90.00</td>\n",
       "    </tr>\n",
       "    <tr>\n",
       "      <th>max</th>\n",
       "      <td>221,848.00</td>\n",
       "      <td>3,000.00</td>\n",
       "    </tr>\n",
       "  </tbody>\n",
       "</table>\n",
       "</div>"
      ],
      "text/plain": [
       "        orderValue       amount\n",
       "count 1,384,704.00 1,384,704.00\n",
       "mean         31.72         2.51\n",
       "std         431.84        10.24\n",
       "min           0.00         1.00\n",
       "25%           6.47         1.00\n",
       "50%          12.95         1.00\n",
       "75%          24.00         2.00\n",
       "90%          49.32         4.00\n",
       "99%         274.75        20.00\n",
       "99.9%     1,562.88        90.00\n",
       "max     221,848.00     3,000.00"
      ]
     },
     "execution_count": 5,
     "metadata": {},
     "output_type": "execute_result"
    }
   ],
   "source": [
    "data[['orderValue', 'amount']].describe(percentiles = [.25, .5, .75, .9, .99, .999]) # show descriptive stats"
   ]
  },
  {
   "cell_type": "markdown",
   "metadata": {},
   "source": [
    "I decide (for now) to remove the top 1% orders (`orderValue <= 274.75` and `amount <= 20`)"
   ]
  },
  {
   "cell_type": "code",
   "execution_count": 6,
   "metadata": {},
   "outputs": [
    {
     "data": {
      "text/plain": [
       "28418178.75"
      ]
     },
     "execution_count": 6,
     "metadata": {},
     "output_type": "execute_result"
    }
   ],
   "source": [
    "data = data.loc[(data['amount'] <= 20) & (data['orderValue'] <= 274.75)] # keep the 99%\n",
    "data.describe()\n",
    "data['orderValue'].sum()"
   ]
  },
  {
   "cell_type": "markdown",
   "metadata": {},
   "source": [
    "This is all for now.  \n",
    "I now compute descriptives for this cleaned dataset. "
   ]
  },
  {
   "cell_type": "markdown",
   "metadata": {},
   "source": [
    "## About customers and orders\n",
    "\n"
   ]
  },
  {
   "cell_type": "code",
   "execution_count": 7,
   "metadata": {
    "collapsed": true,
    "scrolled": true
   },
   "outputs": [],
   "source": [
    "customerIds = pd.unique(data['customerId']) # get all customerIds\n",
    "numberOfCustomers = len(customerIds) # count\n",
    "numberOfOrders = data.shape[0] # get number of rows of order dataset"
   ]
  },
  {
   "cell_type": "markdown",
   "metadata": {},
   "source": [
    "The number of customers: "
   ]
  },
  {
   "cell_type": "code",
   "execution_count": 8,
   "metadata": {},
   "outputs": [
    {
     "data": {
      "text/plain": [
       "17353"
      ]
     },
     "execution_count": 8,
     "metadata": {},
     "output_type": "execute_result"
    }
   ],
   "source": [
    "numberOfCustomers"
   ]
  },
  {
   "cell_type": "markdown",
   "metadata": {},
   "source": [
    "The number of \n",
    "orders:"
   ]
  },
  {
   "cell_type": "code",
   "execution_count": 9,
   "metadata": {},
   "outputs": [
    {
     "data": {
      "text/plain": [
       "1364274"
      ]
     },
     "execution_count": 9,
     "metadata": {},
     "output_type": "execute_result"
    }
   ],
   "source": [
    "numberOfOrders"
   ]
  },
  {
   "cell_type": "markdown",
   "metadata": {},
   "source": [
    "I now aggregate data on customer level in order to describe customer behavior.  \n",
    "I compute order value as `amount x price`."
   ]
  },
  {
   "cell_type": "code",
   "execution_count": 10,
   "metadata": {
    "collapsed": true
   },
   "outputs": [],
   "source": [
    "# group by customer and compute some statistics\n",
    "d = data.groupby('customerId')['orderValue'].agg(['sum', 'count']).describe()"
   ]
  },
  {
   "cell_type": "markdown",
   "metadata": {},
   "source": [
    "The average number of orders placed by customers:"
   ]
  },
  {
   "cell_type": "code",
   "execution_count": 11,
   "metadata": {},
   "outputs": [
    {
     "data": {
      "text/plain": [
       "78.62"
      ]
     },
     "execution_count": 11,
     "metadata": {},
     "output_type": "execute_result"
    }
   ],
   "source": [
    "d['count']['mean'] # avg number of orders"
   ]
  },
  {
   "cell_type": "markdown",
   "metadata": {},
   "source": [
    "The average total money spent by a customers:"
   ]
  },
  {
   "cell_type": "code",
   "execution_count": 12,
   "metadata": {},
   "outputs": [
    {
     "data": {
      "text/plain": [
       "1637.65"
      ]
     },
     "execution_count": 12,
     "metadata": {},
     "output_type": "execute_result"
    }
   ],
   "source": [
    "d['sum']['mean'] # total EUR spent, on avg"
   ]
  },
  {
   "cell_type": "markdown",
   "metadata": {},
   "source": [
    "Let's take a look at the order values:"
   ]
  },
  {
   "cell_type": "code",
   "execution_count": 13,
   "metadata": {},
   "outputs": [
    {
     "data": {
      "image/png": "[encoded data removed]",
      "text/plain": [
       "<matplotlib.figure.Figure at 0x6aaf518>"
      ]
     },
     "metadata": {},
     "output_type": "display_data"
    }
   ],
   "source": [
    "# plot a histogram for order values\n",
    "plt.hist(data['orderValue'])\n",
    "plt.xlabel(\"Order value\") \n",
    "plt.ylabel(\"Frequency\")\n",
    "plt.title(\"Histogram - order value\")\n",
    "plt.show()"
   ]
  },
  {
   "cell_type": "code",
   "execution_count": 14,
   "metadata": {},
   "outputs": [
    {
     "data": {
      "text/plain": [
       "count   1,364,274.00\n",
       "mean           20.83\n",
       "std            27.27\n",
       "min             0.00\n",
       "25%             6.37\n",
       "50%            12.85\n",
       "75%            23.02\n",
       "90%            44.07\n",
       "99%           147.20\n",
       "max           274.74\n",
       "Name: orderValue, dtype: float64"
      ]
     },
     "execution_count": 14,
     "metadata": {},
     "output_type": "execute_result"
    }
   ],
   "source": [
    "data['orderValue'].describe(percentiles = [.25, .5, .75, .9, .99])"
   ]
  },
  {
   "cell_type": "markdown",
   "metadata": {},
   "source": [
    "How does sales change over time? "
   ]
  },
  {
   "cell_type": "code",
   "execution_count": 15,
   "metadata": {},
   "outputs": [
    {
     "data": {
      "text/plain": [
       "[]"
      ]
     },
     "execution_count": 15,
     "metadata": {},
     "output_type": "execute_result"
    },
    {
     "data": {
      "image/png": "[encoded data removed]",
      "text/plain": [
       "<matplotlib.figure.Figure at 0xfadfeb8>"
      ]
     },
     "metadata": {},
     "output_type": "display_data"
    }
   ],
   "source": [
    "# sum up order amounts per month\n",
    "d = data[['dateOfOrder', 'orderValue']].groupby(pd.Grouper(key='dateOfOrder', freq=\"M\")).agg(['sum'])\n",
    "# set plot format and show it\n",
    "ax = d.plot(title=\"Monthly sales over time\")\n",
    "ax.set(xlabel=\"Month\", ylabel=\"Monthly sales in EUR\")\n",
    "ax.plot()"
   ]
  },
  {
   "cell_type": "code",
   "execution_count": 16,
   "metadata": {},
   "outputs": [
    {
     "data": {
      "text/plain": [
       "[]"
      ]
     },
     "execution_count": 16,
     "metadata": {},
     "output_type": "execute_result"
    },
    {
     "data": {
      "image/png": "[encoded data removed]",
      "text/plain": [
       "<matplotlib.figure.Figure at 0x14cffb70>"
      ]
     },
     "metadata": {},
     "output_type": "display_data"
    }
   ],
   "source": [
    "# count number of orders per month\n",
    "d = data[['dateOfOrder','orderValue']].groupby(pd.Grouper(key='dateOfOrder', freq=\"M\")).agg(['count'])\n",
    "# set labels, then show\n",
    "ax = d.plot(title=\"Number of orders over time\")\n",
    "ax.set(xlabel=\"Month\", ylabel=\"Number of orders\")\n",
    "ax.plot()"
   ]
  },
  {
   "cell_type": "markdown",
   "metadata": {},
   "source": [
    "## About products"
   ]
  },
  {
   "cell_type": "markdown",
   "metadata": {},
   "source": [
    "The number of products:"
   ]
  },
  {
   "cell_type": "code",
   "execution_count": 17,
   "metadata": {},
   "outputs": [
    {
     "data": {
      "text/plain": [
       "38045"
      ]
     },
     "execution_count": 17,
     "metadata": {},
     "output_type": "execute_result"
    }
   ],
   "source": [
    "productIds = pd.unique(data['articleId']) # get all productIds\n",
    "numberOfProducts = len(productIds) # count\n",
    "numberOfProducts"
   ]
  },
  {
   "cell_type": "markdown",
   "metadata": {},
   "source": [
    "What is the distribution of product prices?"
   ]
  },
  {
   "cell_type": "code",
   "execution_count": 18,
   "metadata": {},
   "outputs": [
    {
     "data": {
      "text/html": [
       "<div>\n",
       "<style>\n",
       "    .dataframe thead tr:only-child th {\n",
       "        text-align: right;\n",
       "    }\n",
       "\n",
       "    .dataframe thead th {\n",
       "        text-align: left;\n",
       "    }\n",
       "\n",
       "    .dataframe tbody tr th {\n",
       "        vertical-align: top;\n",
       "    }\n",
       "</style>\n",
       "<table border=\"1\" class=\"dataframe\">\n",
       "  <thead>\n",
       "    <tr style=\"text-align: right;\">\n",
       "      <th></th>\n",
       "      <th>mean</th>\n",
       "    </tr>\n",
       "  </thead>\n",
       "  <tbody>\n",
       "    <tr>\n",
       "      <th>count</th>\n",
       "      <td>38,045.00</td>\n",
       "    </tr>\n",
       "    <tr>\n",
       "      <th>mean</th>\n",
       "      <td>12.41</td>\n",
       "    </tr>\n",
       "    <tr>\n",
       "      <th>std</th>\n",
       "      <td>15.24</td>\n",
       "    </tr>\n",
       "    <tr>\n",
       "      <th>min</th>\n",
       "      <td>0.00</td>\n",
       "    </tr>\n",
       "    <tr>\n",
       "      <th>25%</th>\n",
       "      <td>4.60</td>\n",
       "    </tr>\n",
       "    <tr>\n",
       "      <th>50%</th>\n",
       "      <td>8.15</td>\n",
       "    </tr>\n",
       "    <tr>\n",
       "      <th>75%</th>\n",
       "      <td>14.74</td>\n",
       "    </tr>\n",
       "    <tr>\n",
       "      <th>99%</th>\n",
       "      <td>74.75</td>\n",
       "    </tr>\n",
       "    <tr>\n",
       "      <th>max</th>\n",
       "      <td>270.41</td>\n",
       "    </tr>\n",
       "  </tbody>\n",
       "</table>\n",
       "</div>"
      ],
      "text/plain": [
       "           mean\n",
       "count 38,045.00\n",
       "mean      12.41\n",
       "std       15.24\n",
       "min        0.00\n",
       "25%        4.60\n",
       "50%        8.15\n",
       "75%       14.74\n",
       "99%       74.75\n",
       "max      270.41"
      ]
     },
     "execution_count": 18,
     "metadata": {},
     "output_type": "execute_result"
    }
   ],
   "source": [
    "d = data.groupby('articleId')['price'].agg(['mean'])\n",
    "d.describe(percentiles = [.25, .5, .75, .99])"
   ]
  },
  {
   "cell_type": "code",
   "execution_count": 19,
   "metadata": {},
   "outputs": [
    {
     "data": {
      "text/plain": [
       "Text(0.5,1,'Histogram - price')"
      ]
     },
     "execution_count": 19,
     "metadata": {},
     "output_type": "execute_result"
    },
    {
     "data": {
      "image/png": "[encoded data removed]",
      "text/plain": [
       "<matplotlib.figure.Figure at 0xfadf4e0>"
      ]
     },
     "metadata": {},
     "output_type": "display_data"
    }
   ],
   "source": [
    "# plot a histogram for prices\n",
    "plt.hist(d['mean'], bins = 40)\n",
    "plt.xlabel(\"Price\") \n",
    "plt.ylabel(\"Frequency\")\n",
    "plt.title(\"Histogram - price\")"
   ]
  },
  {
   "cell_type": "markdown",
   "metadata": {},
   "source": [
    "What are the bestselling products?"
   ]
  },
  {
   "cell_type": "code",
   "execution_count": 20,
   "metadata": {},
   "outputs": [
    {
     "data": {
      "text/plain": [
       "Munchkin Kartenspiel              7462\n",
       "Munchkin 2: Abartige Axt          5021\n",
       "Munchkin 3: Beschwörungsfehler    4666\n",
       "Munchkin 4: Rasende Rösser        4055\n",
       "Munchkin 1+2                      3226\n",
       "Munchkin 5: Wirre Waldläufer      3162\n",
       "Smash Up                          2562\n",
       "Munchkin 6: Durchge. Dungeons     2370\n",
       "Shadowrun Regelbuch, 5.Ed.(HC)    2249\n",
       "Port Royal                        2152\n",
       "Chez Geek: Das WG-Kartenspiel     1973\n",
       "Ultimate Guard Kartenbox Card     1960\n",
       "Shadowrun Regelbuch, 5. Editio    1959\n",
       "Junta                             1949\n",
       "Munchkin Zombies                  1924\n",
       "Munchkin Quest: Das Brettspiel    1880\n",
       "Munchkin Zombies 1+2              1716\n",
       "Shadowrun Regelbuch (HC)          1706\n",
       "Zombies!!! 2: Zombie-Korps        1603\n",
       "Camel Up *SdJ 2014*               1600\n",
       "Name: title, dtype: int64"
      ]
     },
     "execution_count": 20,
     "metadata": {},
     "output_type": "execute_result"
    }
   ],
   "source": [
    "productCounts = data['title'].value_counts()\n",
    "productCounts[:20] # show the top 20"
   ]
  },
  {
   "cell_type": "markdown",
   "metadata": {},
   "source": [
    "Draw a Lorenz curve, consider units sold. "
   ]
  },
  {
   "cell_type": "code",
   "execution_count": 21,
   "metadata": {},
   "outputs": [
    {
     "data": {
      "text/plain": [
       "<matplotlib.figure.Figure at 0x122dbe48>"
      ]
     },
     "metadata": {},
     "output_type": "display_data"
    },
    {
     "data": {
      "image/png": "[encoded data removed]",
      "text/plain": [
       "<matplotlib.figure.Figure at 0x136bae10>"
      ]
     },
     "metadata": {},
     "output_type": "display_data"
    }
   ],
   "source": [
    "def lorenzCurve(X): # simple lorenz curve from https://zhiyzuo.github.io/Plot-Lorenz/\n",
    "    plt.clf()\n",
    "    X_lorenz = X.cumsum() / X.sum()\n",
    "    X_lorenz = np.insert(X_lorenz, 0, 0) \n",
    "    X_lorenz[0], X_lorenz[-1]\n",
    "    fig, ax = plt.subplots(figsize=[6,6])\n",
    "    ## scatter plot of Lorenz curve\n",
    "    ax.scatter(np.arange(X_lorenz.size)/(X_lorenz.size-1), X_lorenz, \n",
    "               marker='.', color='red', s=1)\n",
    "    ## line plot of equality\n",
    "    plt.title(\"Lorenz curve\")\n",
    "    ax.plot([0,1], [0,1], color='k')\n",
    "    \n",
    "temp = data['title'].value_counts(ascending = True).values\n",
    "lorenzCurve(temp)"
   ]
  },
  {
   "cell_type": "markdown",
   "metadata": {},
   "source": [
    "How much money do the products contribute?"
   ]
  },
  {
   "cell_type": "code",
   "execution_count": 22,
   "metadata": {},
   "outputs": [
    {
     "data": {
      "text/plain": [
       "28418178.75"
      ]
     },
     "execution_count": 22,
     "metadata": {},
     "output_type": "execute_result"
    }
   ],
   "source": [
    "totalSales = data['orderValue'].sum() # total money in dataset\n",
    "totalSales"
   ]
  },
  {
   "cell_type": "code",
   "execution_count": 23,
   "metadata": {},
   "outputs": [
    {
     "data": {
      "text/html": [
       "<div>\n",
       "<style>\n",
       "    .dataframe thead tr:only-child th {\n",
       "        text-align: right;\n",
       "    }\n",
       "\n",
       "    .dataframe thead th {\n",
       "        text-align: left;\n",
       "    }\n",
       "\n",
       "    .dataframe tbody tr th {\n",
       "        vertical-align: top;\n",
       "    }\n",
       "</style>\n",
       "<table border=\"1\" class=\"dataframe\">\n",
       "  <thead>\n",
       "    <tr style=\"text-align: right;\">\n",
       "      <th></th>\n",
       "      <th>sum</th>\n",
       "      <th>salesShare</th>\n",
       "    </tr>\n",
       "    <tr>\n",
       "      <th>title</th>\n",
       "      <th></th>\n",
       "      <th></th>\n",
       "    </tr>\n",
       "  </thead>\n",
       "  <tbody>\n",
       "    <tr>\n",
       "      <th>Munchkin Kartenspiel</th>\n",
       "      <td>180,457.62</td>\n",
       "      <td>0.64</td>\n",
       "    </tr>\n",
       "    <tr>\n",
       "      <th>Mega Civilization</th>\n",
       "      <td>94,135.76</td>\n",
       "      <td>0.33</td>\n",
       "    </tr>\n",
       "    <tr>\n",
       "      <th>Munchkin 2: Abartige Axt</th>\n",
       "      <td>78,227.23</td>\n",
       "      <td>0.28</td>\n",
       "    </tr>\n",
       "    <tr>\n",
       "      <th>Munchkin 1+2</th>\n",
       "      <td>76,685.27</td>\n",
       "      <td>0.27</td>\n",
       "    </tr>\n",
       "    <tr>\n",
       "      <th>MAGIC: THE GATHERING Kaladesh</th>\n",
       "      <td>75,529.03</td>\n",
       "      <td>0.27</td>\n",
       "    </tr>\n",
       "    <tr>\n",
       "      <th>Junta</th>\n",
       "      <td>73,517.93</td>\n",
       "      <td>0.26</td>\n",
       "    </tr>\n",
       "    <tr>\n",
       "      <th>Camel Up *SdJ 2014*</th>\n",
       "      <td>71,018.62</td>\n",
       "      <td>0.25</td>\n",
       "    </tr>\n",
       "    <tr>\n",
       "      <th>Munchkin 3: Beschwörungsfehler</th>\n",
       "      <td>67,518.88</td>\n",
       "      <td>0.24</td>\n",
       "    </tr>\n",
       "    <tr>\n",
       "      <th>Shadowrun Regelbuch (HC)</th>\n",
       "      <td>66,329.52</td>\n",
       "      <td>0.23</td>\n",
       "    </tr>\n",
       "    <tr>\n",
       "      <th>Munchkin Quest: Das Brettspiel</th>\n",
       "      <td>64,514.91</td>\n",
       "      <td>0.23</td>\n",
       "    </tr>\n",
       "    <tr>\n",
       "      <th>Rückkehr nach Ravnica Boos. DP</th>\n",
       "      <td>60,969.94</td>\n",
       "      <td>0.21</td>\n",
       "    </tr>\n",
       "    <tr>\n",
       "      <th>Pandemie *Nominierung 2009*</th>\n",
       "      <td>60,246.16</td>\n",
       "      <td>0.21</td>\n",
       "    </tr>\n",
       "    <tr>\n",
       "      <th>Munchkin 4: Rasende Rösser</th>\n",
       "      <td>58,772.82</td>\n",
       "      <td>0.21</td>\n",
       "    </tr>\n",
       "    <tr>\n",
       "      <th>Shadowrun Regelbuch, 5.Ed.(HC)</th>\n",
       "      <td>55,862.40</td>\n",
       "      <td>0.20</td>\n",
       "    </tr>\n",
       "    <tr>\n",
       "      <th>Return to Ravnica Booster DP</th>\n",
       "      <td>55,511.06</td>\n",
       "      <td>0.20</td>\n",
       "    </tr>\n",
       "    <tr>\n",
       "      <th>Roborally</th>\n",
       "      <td>53,614.14</td>\n",
       "      <td>0.19</td>\n",
       "    </tr>\n",
       "    <tr>\n",
       "      <th>Robinson Crusoe (dt. Ausgabe)</th>\n",
       "      <td>52,886.61</td>\n",
       "      <td>0.19</td>\n",
       "    </tr>\n",
       "    <tr>\n",
       "      <th>Munchkin Sammlerkoffer</th>\n",
       "      <td>49,628.60</td>\n",
       "      <td>0.17</td>\n",
       "    </tr>\n",
       "    <tr>\n",
       "      <th>Magic Maze (deutsche Ausgabe)</th>\n",
       "      <td>48,445.14</td>\n",
       "      <td>0.17</td>\n",
       "    </tr>\n",
       "    <tr>\n",
       "      <th>Smash Up</th>\n",
       "      <td>47,820.35</td>\n",
       "      <td>0.17</td>\n",
       "    </tr>\n",
       "  </tbody>\n",
       "</table>\n",
       "</div>"
      ],
      "text/plain": [
       "                                      sum  salesShare\n",
       "title                                                \n",
       "Munchkin Kartenspiel           180,457.62        0.64\n",
       "Mega Civilization               94,135.76        0.33\n",
       "Munchkin 2: Abartige Axt        78,227.23        0.28\n",
       "Munchkin 1+2                    76,685.27        0.27\n",
       "MAGIC: THE GATHERING Kaladesh   75,529.03        0.27\n",
       "Junta                           73,517.93        0.26\n",
       "Camel Up *SdJ 2014*             71,018.62        0.25\n",
       "Munchkin 3: Beschwörungsfehler  67,518.88        0.24\n",
       "Shadowrun Regelbuch (HC)        66,329.52        0.23\n",
       "Munchkin Quest: Das Brettspiel  64,514.91        0.23\n",
       "Rückkehr nach Ravnica Boos. DP  60,969.94        0.21\n",
       "Pandemie *Nominierung 2009*     60,246.16        0.21\n",
       "Munchkin 4: Rasende Rösser      58,772.82        0.21\n",
       "Shadowrun Regelbuch, 5.Ed.(HC)  55,862.40        0.20\n",
       "Return to Ravnica Booster DP    55,511.06        0.20\n",
       "Roborally                       53,614.14        0.19\n",
       "Robinson Crusoe (dt. Ausgabe)   52,886.61        0.19\n",
       "Munchkin Sammlerkoffer          49,628.60        0.17\n",
       "Magic Maze (deutsche Ausgabe)   48,445.14        0.17\n",
       "Smash Up                        47,820.35        0.17"
      ]
     },
     "execution_count": 23,
     "metadata": {},
     "output_type": "execute_result"
    }
   ],
   "source": [
    "salesByProduct = data.groupby('title')['orderValue'].agg(['sum']) # sum sales of each product\n",
    "salesByProduct['salesShare'] = salesByProduct['sum'] / totalSales *100. # compute ratio \n",
    "salesByProduct.sort_values(by='sum', ascending = False)[:20] # show the top 20"
   ]
  },
  {
   "cell_type": "code",
   "execution_count": 24,
   "metadata": {},
   "outputs": [
    {
     "data": {
      "text/plain": [
       "<matplotlib.figure.Figure at 0x122e6668>"
      ]
     },
     "metadata": {},
     "output_type": "display_data"
    },
    {
     "data": {
      "image/png": "[encoded data removed]",
      "text/plain": [
       "<matplotlib.figure.Figure at 0xfbbb4e0>"
      ]
     },
     "metadata": {},
     "output_type": "display_data"
    }
   ],
   "source": [
    "temp = salesByProduct['salesShare'].sort_values(ascending = True)\n",
    "temp.dropna(inplace = True) # remove rows that have a missing value\n",
    "lorenzCurve(temp.values)"
   ]
  }
 ],
 "metadata": {
  "kernelspec": {
   "display_name": "Python 3",
   "language": "python",
   "name": "python3"
  },
  "language_info": {
   "codemirror_mode": {
    "name": "ipython",
    "version": 3
   },
   "file_extension": ".py",
   "mimetype": "text/x-python",
   "name": "python",
   "nbconvert_exporter": "python",
   "pygments_lexer": "ipython3",
   "version": "3.6.3"
  }
 },
 "nbformat": 4,
 "nbformat_minor": 2
}
